{
 "cells": [
  {
   "cell_type": "code",
   "execution_count": 1,
   "metadata": {},
   "outputs": [
    {
     "name": "stdout",
     "output_type": "stream",
     "text": [
      "importing Jupyter notebook from Data_Get.ipynb\n"
     ]
    },
    {
     "ename": "NameError",
     "evalue": "name 'raw_input' is not defined",
     "output_type": "error",
     "traceback": [
      "\u001b[1;31m---------------------------------------------------------------------------\u001b[0m",
      "\u001b[1;31mNameError\u001b[0m                                 Traceback (most recent call last)",
      "\u001b[1;32m<ipython-input-1-302785dd226b>\u001b[0m in \u001b[0;36m<module>\u001b[1;34m()\u001b[0m\n\u001b[0;32m     16\u001b[0m \u001b[1;31m# a.处理异常值\u001b[0m\u001b[1;33m\u001b[0m\u001b[1;33m\u001b[0m\u001b[0m\n\u001b[0;32m     17\u001b[0m \u001b[1;31m# **************\u001b[0m\u001b[1;33m\u001b[0m\u001b[1;33m\u001b[0m\u001b[0m\n\u001b[1;32m---> 18\u001b[1;33m \u001b[0mwayoutlier\u001b[0m \u001b[1;33m=\u001b[0m \u001b[0mraw_input\u001b[0m\u001b[1;33m(\u001b[0m\u001b[0municode\u001b[0m\u001b[1;33m(\u001b[0m\u001b[1;34m'请选择异常值的处理方式：1.替换为NAN值;2.不处理: \\n'\u001b[0m\u001b[1;33m,\u001b[0m\u001b[1;34m'utf-8'\u001b[0m\u001b[1;33m)\u001b[0m\u001b[1;33m.\u001b[0m\u001b[0mencode\u001b[0m\u001b[1;33m(\u001b[0m\u001b[1;34m'gbk'\u001b[0m\u001b[1;33m)\u001b[0m\u001b[1;33m)\u001b[0m\u001b[1;33m\u001b[0m\u001b[0m\n\u001b[0m\u001b[0;32m     19\u001b[0m \u001b[1;32mif\u001b[0m \u001b[0mwayoutlier\u001b[0m \u001b[1;33m==\u001b[0m \u001b[1;34m'1'\u001b[0m\u001b[1;33m:\u001b[0m\u001b[1;33m\u001b[0m\u001b[0m\n\u001b[0;32m     20\u001b[0m     \u001b[1;31m# 1.替换为NAN值\u001b[0m\u001b[1;33m\u001b[0m\u001b[1;33m\u001b[0m\u001b[0m\n",
      "\u001b[1;31mNameError\u001b[0m: name 'raw_input' is not defined"
     ]
    }
   ],
   "source": [
    "#-*- coding: utf-8 -*-\n",
    "import Ipynb_importer #导入ipythonnotebook文件，实现jupyter文件的解析调用\n",
    "import Data_Get \n",
    "import time\n",
    "import numpy as np\n",
    "\n",
    "\n",
    "# **************\n",
    "# 输入数据\n",
    "# **************\n",
    "data=Data_Get.get_ExcelData() #获取数据\n",
    "data=data.head(20)\n",
    "\n",
    "\n",
    "# **************\n",
    "# a.处理异常值\n",
    "# **************\n",
    "wayoutlier = raw_input(unicode('请选择异常值的处理方式：1.替换为NAN值;2.不处理: \\n','utf-8').encode('gbk'))  \n",
    "if wayoutlier == '1':\n",
    "    # 1.替换为NAN值\n",
    "    for i in data.columns:\n",
    "        min=data[i].quantile(0.25)-(data[i].quantile(0.75)-data[i].quantile(0.25))*1.5\n",
    "        max=data[i].quantile(0.75)+(data[i].quantile(0.75)-data[i].quantile(0.25))*1.5\n",
    "        for j in range(len(data)):\n",
    "            if (data[i][j]<min or data[i][j]>max):#通过四分位距方式判断是否为异常值\n",
    "                data[i]=data[i].replace(to_replace=data[i][j],value=np.nan)\n",
    "else:\n",
    "    # 2.不处理\n",
    "    print (\"不处理异常值！\\n\")\n",
    "\n",
    "    \n",
    "# **************\n",
    "# b.处理缺失值\n",
    "# **************\n",
    "waynan = raw_input(unicode('请选择缺失值的处理方式：1.替换;2.删除;3.不处理: \\n','utf-8').encode('gbk'))  \n",
    "if waynan == '1':\n",
    "    # 1.替换缺失值\n",
    "    for i in data.columns: \n",
    "        avr=data[i].mean()#用算术平均数替换缺失值\n",
    "        #2.0可扩展功能(1固定值2均值中位数众数3临近值4回归方法5拉格朗日插值法，牛顿插值法，分段差值，Hermite插值，样条插值法)\n",
    "        data[i]=data[i].fillna(avr)\n",
    "elif waynan == '2':\n",
    "    # 2.删除缺失值\n",
    "    data=data.dropna(axis='index',how='any')\n",
    "else:\n",
    "    # 3.不处理\n",
    "    print (\"不处理缺失值！\\n\")\n",
    "\n",
    "    \n",
    "# **************\n",
    "# c.处理重复值\n",
    "# **************\n",
    "data=data.drop_duplicates()\n",
    "\n",
    "\n",
    "# **************\n",
    "# 输出数据\n",
    "# **************\n",
    "data.to_excel('../data/catering_sale_out.xlsx', sheet_name='Sheet'+str(time.time()))"
   ]
  },
  {
   "cell_type": "code",
   "execution_count": null,
   "metadata": {},
   "outputs": [],
   "source": []
  }
 ],
 "metadata": {
  "celltoolbar": "Tags",
  "kernelspec": {
   "display_name": "Python 3",
   "language": "python",
   "name": "python3"
  },
  "language_info": {
   "codemirror_mode": {
    "name": "ipython",
    "version": 3
   },
   "file_extension": ".py",
   "mimetype": "text/x-python",
   "name": "python",
   "nbconvert_exporter": "python",
   "pygments_lexer": "ipython3",
   "version": "3.6.5"
  }
 },
 "nbformat": 4,
 "nbformat_minor": 2
}
