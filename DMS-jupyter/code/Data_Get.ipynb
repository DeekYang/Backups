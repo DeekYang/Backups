{
 "cells": [
  {
   "cell_type": "code",
   "execution_count": 1,
   "metadata": {
    "collapsed": true
   },
   "outputs": [],
   "source": [
    "#-*- coding: utf-8 -*-\n",
    "import pandas as pd\n",
    "import numpy as np\n",
    "import matplotlib.pyplot as plt\n",
    "import time\n",
    "\n",
    "\n",
    "def get_ExcelData():\n",
    "    discfile = '../data/train_20171215.txt' \n",
    "    data = pd.read_table(discfile, index_col = 'date')\n",
    "#     data = pd.read_excel(catering_sale, index_col = u'日期') #读取数据，指定“日期”列为索引列\n",
    "    return (data)\n",
    "\n",
    "\n",
    "# data=pd.DataFrame({'a':[8,2,None,121,12],'b':[2,None,8,11,12],'c':[None,6,9,12,22]},index = [0,1,2,3,4])\n",
    "# print data.count() # dataframe每列非NAN值的数量\n",
    "# print data.shape # dataframe的\"行数\"和\"列数\"\n",
    "# print data.size # dataframe的值总数，等于\"行数\"和\"列数\"的乘机"
   ]
  },
  {
   "cell_type": "code",
   "execution_count": null,
   "metadata": {
    "collapsed": true
   },
   "outputs": [],
   "source": []
  }
 ],
 "metadata": {
  "kernelspec": {
   "display_name": "Python 3",
   "language": "python",
   "name": "python3"
  },
  "language_info": {
   "codemirror_mode": {
    "name": "ipython",
    "version": 3
   },
   "file_extension": ".py",
   "mimetype": "text/x-python",
   "name": "python",
   "nbconvert_exporter": "python",
   "pygments_lexer": "ipython3",
   "version": "3.6.5"
  }
 },
 "nbformat": 4,
 "nbformat_minor": 2
}
