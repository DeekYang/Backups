{
 "cells": [
  {
   "cell_type": "code",
   "execution_count": 3,
   "metadata": {},
   "outputs": [
    {
     "name": "stdout",
     "output_type": "stream",
     "text": [
      "\n",
      "a.检查异常值情况:\n",
      "\n"
     ]
    },
    {
     "data": {
      "image/png": "[encoded data removed]",
      "text/plain": [
       "<matplotlib.figure.Figure at 0x3938230>"
      ]
     },
     "metadata": {},
     "output_type": "display_data"
    },
    {
     "name": "stdout",
     "output_type": "stream",
     "text": [
      "\n",
      "b.检查缺失值情况:\n",
      "\n",
      "恭喜您,该数据集不存在缺失值！\n",
      "\n",
      "\n",
      "c.检查重复值情况:\n",
      "\n",
      "该数据集存在 1 行重复值！\n"
     ]
    }
   ],
   "source": [
    "#-*- coding: utf-8 -*-\n",
    "import Ipynb_importer #导入ipythonnotebook文件，实现jupyter文件的解析调用\n",
    "import Data_Get \n",
    "import matplotlib.pyplot as plt\n",
    "import pandas as pd\n",
    "\n",
    "# **************\n",
    "# 输入数据\n",
    "# **************\n",
    "data=Data_Get.get_ExcelData() #获取数据\n",
    "data=data.head(20)\n",
    "\n",
    "\n",
    "# **************\n",
    "# a.检查异常值情况——箱体图方式显示\n",
    "# **************\n",
    "print (\"\\na.检查异常值情况:\\n\")\n",
    "#取数值\n",
    "outlierdata=data.values\n",
    "#画图\n",
    "green_diamond = dict(markerfacecolor='g', marker='D')\n",
    "fig, ax = plt.subplots()\n",
    "ax.set_title('Box Plot')\n",
    "p=ax.boxplot(outlierdata,flierprops=green_diamond)\n",
    "# 显示异常数据的数值\n",
    "for i in range(outlierdata.shape[1]): \n",
    "    x=p['fliers'][i].get_xdata()\n",
    "    y=p['fliers'][i].get_ydata()\n",
    "    if len(x)<> 0:\n",
    "        y.sort()\n",
    "        plt.annotate(y[0], xy = (x[0],y[0]), xytext = (x[0],y[0]))#显示最小值坐标\n",
    "        plt.annotate(y[len(y)-1], xy = (x[len(y)-1],y[len(y)-1]), xytext = (x[len(y)-1],y[len(y)-1]))#显示最大值坐标\n",
    "#输出图像\n",
    "plt.show()\n",
    "\n",
    "\n",
    "# **************\n",
    "# b.检查缺失值情况——是否存在缺失值,并显示存在的数量是多少\n",
    "# **************\n",
    "print (\"\\nb.检查缺失值情况:\\n\")\n",
    "nandata=pd.DataFrame(index=['all','noNAN','NAN'],columns=data.count().index)\n",
    "nandata.loc[['all'],:]=data.shape[0]\n",
    "nandata.loc[['noNAN'],:]=data.count().values\n",
    "nandata.loc[['NAN'],:]=nandata.loc['all'].values-nandata.loc['noNAN'].values\n",
    "nandata=nandata.T[nandata.T['NAN'] > 0]\n",
    "if nandata.empty:\n",
    "    print (\"恭喜您,该数据集不存在缺失值！\\n\")\n",
    "else:\n",
    "    print (\"该数据集存在缺失值情况如下：\\n\")\n",
    "    print nandata\n",
    "\n",
    "    \n",
    "# **************\n",
    "# c.检查重复值情况\n",
    "# **************\n",
    "print (\"\\nc.检查重复值情况:\\n\")\n",
    "if data.shape[0]==data.drop_duplicates().shape[0]:\n",
    "    print (\"恭喜您,该数据集不存在重复值！\\n\")\n",
    "else:\n",
    "    print (\"该数据集存在 %d 行重复值！\" % (data.shape[0]-data.drop_duplicates().shape[0]))"
   ]
  },
  {
   "cell_type": "code",
   "execution_count": null,
   "metadata": {
    "collapsed": true
   },
   "outputs": [],
   "source": []
  }
 ],
 "metadata": {
  "kernelspec": {
   "display_name": "Python 2",
   "language": "python",
   "name": "python2"
  },
  "language_info": {
   "codemirror_mode": {
    "name": "ipython",
    "version": 2
   },
   "file_extension": ".py",
   "mimetype": "text/x-python",
   "name": "python",
   "nbconvert_exporter": "python",
   "pygments_lexer": "ipython2",
   "version": "2.7.11"
  }
 },
 "nbformat": 4,
 "nbformat_minor": 2
}
